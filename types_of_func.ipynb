{
 "cells": [
  {
   "cell_type": "code",
   "execution_count": null,
   "metadata": {},
   "outputs": [
    {
     "ename": "",
     "evalue": "",
     "output_type": "error",
     "traceback": [
      "\u001b[1;31mRunning cells with 'Python 3.9.12 ('base')' requires ipykernel package.\n",
      "\u001b[1;31mRun the following command to install 'ipykernel' into the Python environment. \n",
      "\u001b[1;31mCommand: 'conda install -n base ipykernel --update-deps --force-reinstall'"
     ]
    }
   ],
   "source": [
    "8"
   ]
  },
  {
   "cell_type": "code",
   "execution_count": 6,
   "metadata": {},
   "outputs": [],
   "source": [
    "\n",
    "# function parameters Style\n",
    " #1.postional arguments \n",
    " #2.required argument \n",
    " #default arguments \n",
    " #variable length arguments *ArgS\n",
    " #5.keyword arguments**kwargs/*\n",
    "def add (a,b,c,d):\n",
    "    return a+b+c+d"
   ]
  },
  {
   "cell_type": "code",
   "execution_count": 10,
   "metadata": {},
   "outputs": [
    {
     "name": "stdout",
     "output_type": "stream",
     "text": [
      "14\n",
      "21\n",
      "31\n"
     ]
    }
   ],
   "source": [
    "print(add(a=2,b=3,c=4,d=5))\n",
    "print(add(b=3,a=6,c=8,d=4))\n",
    "print(add(c=9,b=6,a=7,d=9))\n"
   ]
  },
  {
   "cell_type": "code",
   "execution_count": 11,
   "metadata": {},
   "outputs": [
    {
     "name": "stdout",
     "output_type": "stream",
     "text": [
      "11\n"
     ]
    }
   ],
   "source": [
    "print (add(1,2,3,5))\n"
   ]
  },
  {
   "cell_type": "code",
   "execution_count": null,
   "metadata": {},
   "outputs": [],
   "source": []
  },
  {
   "cell_type": "code",
   "execution_count": 17,
   "metadata": {},
   "outputs": [],
   "source": [
    "def si2 (p=1000,r=1.1,t=10):\n",
    "    return(p*r*t)/100\n",
    "    "
   ]
  },
  {
   "cell_type": "code",
   "execution_count": null,
   "metadata": {},
   "outputs": [],
   "source": []
  },
  {
   "cell_type": "code",
   "execution_count": 18,
   "metadata": {},
   "outputs": [
    {
     "name": "stdout",
     "output_type": "stream",
     "text": [
      "110.0\n",
      "1320.0000000000002\n",
      "3600.0\n",
      "1800.0\n"
     ]
    }
   ],
   "source": [
    "print(si2())\n",
    "print(si2(p=12000))\n",
    "print(si2(p=12000,r=3))\n",
    "print(si2(p=12000,r=3,t=5))\n",
    "\n"
   ]
  },
  {
   "cell_type": "code",
   "execution_count": null,
   "metadata": {},
   "outputs": [],
   "source": []
  },
  {
   "cell_type": "code",
   "execution_count": 23,
   "metadata": {},
   "outputs": [],
   "source": [
    "\n",
    "\n",
    "\n",
    "def multiply(*num):\n",
    "    ans=1\n",
    "    for i in num:\n",
    "        ans *=i\n",
    "    return ans"
   ]
  },
  {
   "cell_type": "code",
   "execution_count": 24,
   "metadata": {},
   "outputs": [
    {
     "data": {
      "text/plain": [
       "300"
      ]
     },
     "execution_count": 24,
     "metadata": {},
     "output_type": "execute_result"
    }
   ],
   "source": [
    "multiply(2,3,5,10)"
   ]
  },
  {
   "cell_type": "code",
   "execution_count": null,
   "metadata": {},
   "outputs": [],
   "source": []
  },
  {
   "cell_type": "code",
   "execution_count": 25,
   "metadata": {},
   "outputs": [
    {
     "name": "stdout",
     "output_type": "stream",
     "text": [
      "1 2 3 4 5\n"
     ]
    }
   ],
   "source": [
    "print (1,2,3,4,5)"
   ]
  },
  {
   "cell_type": "code",
   "execution_count": null,
   "metadata": {},
   "outputs": [],
   "source": []
  },
  {
   "cell_type": "markdown",
   "metadata": {},
   "source": [
    "variable arguments **kwargs"
   ]
  },
  {
   "cell_type": "code",
   "execution_count": 31,
   "metadata": {},
   "outputs": [],
   "source": [
    "def handle_data(**data):\n",
    "    for k,v in data.items():\n",
    "\n",
    "        if isinstance(v,(int,float)):\n",
    "            print(f\"{k}=> {v}\")\n",
    "        else:\n",
    "            print('invalid entry')\n"
   ]
  },
  {
   "cell_type": "code",
   "execution_count": 32,
   "metadata": {},
   "outputs": [
    {
     "name": "stdout",
     "output_type": "stream",
     "text": [
      "invalid entry\n",
      "salary=> 100\n",
      "age=> 23\n",
      "invalid entry\n"
     ]
    }
   ],
   "source": [
    "handle_data(name=\"bcd\",salary=100,age=23,pname=\"abcde\")"
   ]
  },
  {
   "cell_type": "code",
   "execution_count": null,
   "metadata": {},
   "outputs": [],
   "source": []
  },
  {
   "cell_type": "code",
   "execution_count": 1,
   "metadata": {},
   "outputs": [
    {
     "ename": "NameError",
     "evalue": "name 'f' is not defined",
     "output_type": "error",
     "traceback": [
      "\u001b[1;31m---------------------------------------------------------------------------\u001b[0m",
      "\u001b[1;31mNameError\u001b[0m                                 Traceback (most recent call last)",
      "\u001b[1;32mc:\\Users\\lenovo\\Documents\\python\\types_of_func.ipynb Cell 19\u001b[0m in \u001b[0;36m<cell line: 2>\u001b[1;34m()\u001b[0m\n\u001b[0;32m      <a href='vscode-notebook-cell:/c%3A/Users/lenovo/Documents/python/types_of_func.ipynb#X25sZmlsZQ%3D%3D?line=0'>1</a>\u001b[0m \u001b[39m'\u001b[39m\u001b[39mf(x)=x+2\u001b[39m\u001b[39m'\u001b[39m\n\u001b[1;32m----> <a href='vscode-notebook-cell:/c%3A/Users/lenovo/Documents/python/types_of_func.ipynb#X25sZmlsZQ%3D%3D?line=1'>2</a>\u001b[0m f(\u001b[39m120\u001b[39m)\n",
      "\u001b[1;31mNameError\u001b[0m: name 'f' is not defined"
     ]
    }
   ],
   "source": [
    "'f(x)=x+2'\n",
    "f(120)\n"
   ]
  },
  {
   "cell_type": "markdown",
   "metadata": {},
   "source": [
    "lambda expressions"
   ]
  },
  {
   "cell_type": "code",
   "execution_count": 2,
   "metadata": {},
   "outputs": [],
   "source": [
    "def eql(x):\n",
    "    return x**2+2*x +1"
   ]
  },
  {
   "cell_type": "code",
   "execution_count": 4,
   "metadata": {},
   "outputs": [
    {
     "data": {
      "text/plain": [
       "16"
      ]
     },
     "execution_count": 4,
     "metadata": {},
     "output_type": "execute_result"
    }
   ],
   "source": [
    "eql(3)"
   ]
  },
  {
   "cell_type": "code",
   "execution_count": 5,
   "metadata": {},
   "outputs": [],
   "source": [
    "var= lambda argument : expression \n",
    "f=lambda i: i**2 +2*i+1"
   ]
  },
  {
   "cell_type": "code",
   "execution_count": 6,
   "metadata": {},
   "outputs": [
    {
     "name": "stdout",
     "output_type": "stream",
     "text": [
      "25\n",
      "225\n",
      "196\n"
     ]
    }
   ],
   "source": [
    "print(f(4))\n",
    "print(f(14))\n",
    "print (f(13))\n"
   ]
  },
  {
   "cell_type": "code",
   "execution_count": null,
   "metadata": {},
   "outputs": [],
   "source": []
  },
  {
   "cell_type": "code",
   "execution_count": 7,
   "metadata": {},
   "outputs": [
    {
     "name": "stdout",
     "output_type": "stream",
     "text": [
      "29\n",
      "239\n"
     ]
    }
   ],
   "source": [
    "g= lambda x,y:x**2+2*x+y\n",
    "print(g(4,5))\n",
    "print(g(14,15))"
   ]
  },
  {
   "cell_type": "code",
   "execution_count": 12,
   "metadata": {},
   "outputs": [
    {
     "data": {
      "text/plain": [
       "(1156, 4, 4225, 8464, 4489, 4761, 1156, 144, 529, 49, 81, 9, 0)"
      ]
     },
     "execution_count": 12,
     "metadata": {},
     "output_type": "execute_result"
    }
   ],
   "source": [
    "data =[34,2,65,92,67,69,34,12,23,7,9,3,0]\n",
    "tuple (map (lambda x:x**2,data))"
   ]
  },
  {
   "cell_type": "code",
   "execution_count": 14,
   "metadata": {},
   "outputs": [
    {
     "data": {
      "text/plain": [
       "['RAJ', 'RAHUL', 'AKASH', 'PRAGYA', 'SITA']"
      ]
     },
     "execution_count": 14,
     "metadata": {},
     "output_type": "execute_result"
    }
   ],
   "source": [
    "name =['raj','rahul','akash', 'pragya','sita' ]\n",
    "list(map(lambda n: n.upper(),name))\n"
   ]
  },
  {
   "cell_type": "code",
   "execution_count": 15,
   "metadata": {},
   "outputs": [
    {
     "ename": "NameError",
     "evalue": "name 'fliter' is not defined",
     "output_type": "error",
     "traceback": [
      "\u001b[1;31m---------------------------------------------------------------------------\u001b[0m",
      "\u001b[1;31mNameError\u001b[0m                                 Traceback (most recent call last)",
      "\u001b[1;32mc:\\Users\\lenovo\\Documents\\python\\types_of_func.ipynb Cell 29\u001b[0m in \u001b[0;36m<cell line: 2>\u001b[1;34m()\u001b[0m\n\u001b[0;32m      <a href='vscode-notebook-cell:/c%3A/Users/lenovo/Documents/python/types_of_func.ipynb#X46sZmlsZQ%3D%3D?line=0'>1</a>\u001b[0m x\u001b[39m=\u001b[39m[\u001b[39m4\u001b[39m,\u001b[39m5\u001b[39m,\u001b[39m6\u001b[39m,\u001b[39m7\u001b[39m,\u001b[39m9\u001b[39m,\u001b[39m0\u001b[39m,\u001b[39m5\u001b[39m,\u001b[39m4\u001b[39m,\u001b[39m2\u001b[39m,\u001b[39m6\u001b[39m,\u001b[39m9\u001b[39m,\u001b[39m6\u001b[39m,\u001b[39m5\u001b[39m,\u001b[39m4\u001b[39m,\u001b[39m7\u001b[39m,\u001b[39m9\u001b[39m,\u001b[39m0\u001b[39m]\n\u001b[1;32m----> <a href='vscode-notebook-cell:/c%3A/Users/lenovo/Documents/python/types_of_func.ipynb#X46sZmlsZQ%3D%3D?line=1'>2</a>\u001b[0m even_x\u001b[39m=\u001b[39m\u001b[39mlist\u001b[39m(fliter(\u001b[39mlambda\u001b[39;00m i:i\u001b[39m%\u001b[39m \u001b[39m2\u001b[39m\u001b[39m==\u001b[39m\u001b[39m0\u001b[39m,x))\n\u001b[0;32m      <a href='vscode-notebook-cell:/c%3A/Users/lenovo/Documents/python/types_of_func.ipynb#X46sZmlsZQ%3D%3D?line=2'>3</a>\u001b[0m \u001b[39mprint\u001b[39m (even_x)\n",
      "\u001b[1;31mNameError\u001b[0m: name 'fliter' is not defined"
     ]
    }
   ],
   "source": [
    "x=[4,5,6,7,9,0,5,4,2,6,9,6,5,4,7,9,0]\n",
    "even_x=list(fliter(lambda i:i% 2==0,x))\n",
    "print (even_x)"
   ]
  },
  {
   "cell_type": "code",
   "execution_count": null,
   "metadata": {},
   "outputs": [],
   "source": []
  },
  {
   "cell_type": "code",
   "execution_count": null,
   "metadata": {},
   "outputs": [],
   "source": []
  },
  {
   "cell_type": "code",
   "execution_count": 5,
   "metadata": {},
   "outputs": [
    {
     "name": "stdout",
     "output_type": "stream",
     "text": [
      "seokg\n"
     ]
    }
   ],
   "source": [
    "gfg=\"geeksforgeeks\"\n",
    "print(gfg[::-3])"
   ]
  },
  {
   "cell_type": "code",
   "execution_count": null,
   "metadata": {},
   "outputs": [],
   "source": []
  },
  {
   "cell_type": "code",
   "execution_count": 11,
   "metadata": {},
   "outputs": [
    {
     "name": "stdout",
     "output_type": "stream",
     "text": [
      "intinal string:\n",
      "geeksForgeeks\n",
      "slicing characters from 3-12:\n",
      "ksForgeek\n"
     ]
    }
   ],
   "source": [
    "#creating string\n",
    "gfg=\"geeksForgeeks\"\n",
    "print(\"intinal string:\")\n",
    "print(gfg)\n",
    "print(\"slicing characters from 3-12:\")\n",
    "print(gfg[3:12])\n"
   ]
  },
  {
   "cell_type": "code",
   "execution_count": 12,
   "metadata": {},
   "outputs": [
    {
     "name": "stdout",
     "output_type": "stream",
     "text": [
      "intinal string :\n",
      "hello,i'm a geek\n",
      "\n",
      " updated string :\n",
      "welcome to the geek world\n"
     ]
    }
   ],
   "source": [
    "string1=\"hello,i'm a geek\"\n",
    "print (\"intinal string :\")\n",
    "print(string1)\n",
    "string1=\"welcome to the geek world\"\n",
    "print(\"\\n updated string :\")\n",
    "print(string1)"
   ]
  },
  {
   "cell_type": "code",
   "execution_count": 15,
   "metadata": {},
   "outputs": [
    {
     "name": "stdout",
     "output_type": "stream",
     "text": [
      "intinal string:\n",
      "hello, i'm a geek\n"
     ]
    },
    {
     "ename": "NameError",
     "evalue": "name 'string1' is not defined",
     "output_type": "error",
     "traceback": [
      "\u001b[1;31m---------------------------------------------------------------------------\u001b[0m",
      "\u001b[1;31mNameError\u001b[0m                                 Traceback (most recent call last)",
      "\u001b[1;32mc:\\Users\\lenovo\\Documents\\python\\types_of_func.ipynb Cell 36\u001b[0m in \u001b[0;36m<cell line: 5>\u001b[1;34m()\u001b[0m\n\u001b[0;32m      <a href='vscode-notebook-cell:/c%3A/Users/lenovo/Documents/python/types_of_func.ipynb#X54sZmlsZQ%3D%3D?line=2'>3</a>\u001b[0m \u001b[39mprint\u001b[39m(string1)\n\u001b[0;32m      <a href='vscode-notebook-cell:/c%3A/Users/lenovo/Documents/python/types_of_func.ipynb#X54sZmlsZQ%3D%3D?line=3'>4</a>\u001b[0m \u001b[39mdel\u001b[39;00m string1\n\u001b[1;32m----> <a href='vscode-notebook-cell:/c%3A/Users/lenovo/Documents/python/types_of_func.ipynb#X54sZmlsZQ%3D%3D?line=4'>5</a>\u001b[0m \u001b[39mprint\u001b[39m(string1)\n",
      "\u001b[1;31mNameError\u001b[0m: name 'string1' is not defined"
     ]
    }
   ],
   "source": [
    "string1 = \"hello, i'm a geek\"\n",
    "print(\"intinal string:\")\n",
    "print(string1)\n",
    "del string1\n",
    "print(string1)"
   ]
  },
  {
   "cell_type": "code",
   "execution_count": 20,
   "metadata": {},
   "outputs": [
    {
     "name": "stdout",
     "output_type": "stream",
     "text": [
      "['nikil', 'aman', 'pragya', 'deepak', 'ankit']\n"
     ]
    }
   ],
   "source": [
    "\n",
    "list1 = ['nikil','aman','pragya','deepak','ankit']\n",
    "print(list1)"
   ]
  },
  {
   "cell_type": "code",
   "execution_count": 27,
   "metadata": {},
   "outputs": [],
   "source": [
    "from symtable import SymbolTableFactory\n",
    "\n",
    "\n",
    "empolyees = {}\n",
    "for i in range (3):\n",
    "    name = input (\"enter employees  name:\")\n",
    "    salary = input(\"enter employees salary:\")\n",
    "employees[name]=salary\n",
    "print(employees)\n",
    "\n",
    "    "
   ]
  },
  {
   "cell_type": "code",
   "execution_count": 6,
   "metadata": {},
   "outputs": [
    {
     "ename": "IndentationError",
     "evalue": "unindent does not match any outer indentation level (<tokenize>, line 5)",
     "output_type": "error",
     "traceback": [
      "\u001b[1;36m  File \u001b[1;32m<tokenize>:5\u001b[1;36m\u001b[0m\n\u001b[1;33m    def draw():\u001b[0m\n\u001b[1;37m    ^\u001b[0m\n\u001b[1;31mIndentationError\u001b[0m\u001b[1;31m:\u001b[0m unindent does not match any outer indentation level\n"
     ]
    }
   ],
   "source": [
    "timer= 0\n",
    "def update(dt):\n",
    "    global timertimer +=dt\n",
    "    timer += dt\n",
    " def draw():\n",
    "    screen.clear ()\n",
    "    screen.draw.text (f\"Time passed:{timer}\"(0,0))\n",
    "    if timer > 5:\n",
    "        screen.draw.textbox(\"time's up!\",rect (50,50,50,200,200))\n",
    "   \n",
    " "
   ]
  },
  {
   "cell_type": "markdown",
   "metadata": {},
   "source": [
    "function"
   ]
  },
  {
   "cell_type": "markdown",
   "metadata": {},
   "source": [
    "d donot\n",
    "r repeat\n",
    "y yourself"
   ]
  },
  {
   "cell_type": "code",
   "execution_count": 2,
   "metadata": {},
   "outputs": [],
   "source": [
    "def hello():\n",
    "    print('hello World')"
   ]
  },
  {
   "cell_type": "code",
   "execution_count": 3,
   "metadata": {},
   "outputs": [
    {
     "name": "stdout",
     "output_type": "stream",
     "text": [
      "hello World\n"
     ]
    }
   ],
   "source": [
    "#calling/ using the function\n",
    "hello()\n"
   ]
  },
  {
   "cell_type": "code",
   "execution_count": 6,
   "metadata": {},
   "outputs": [],
   "source": [
    "def si():\n",
    "    p= int(input('pricipal:'))\n",
    "    r= float(input('Rate:'))\n",
    "    t= int(input('time'))\n",
    "    si=(p*r*t)/100\n",
    "    print('simple interest:',si)\n",
    "    "
   ]
  },
  {
   "cell_type": "code",
   "execution_count": 7,
   "metadata": {},
   "outputs": [
    {
     "ename": "ValueError",
     "evalue": "invalid literal for int() with base 10: ''",
     "output_type": "error",
     "traceback": [
      "\u001b[1;31m---------------------------------------------------------------------------\u001b[0m",
      "\u001b[1;31mValueError\u001b[0m                                Traceback (most recent call last)",
      "\u001b[1;32mc:\\Users\\lenovo\\Documents\\python\\types_of_func.ipynb Cell 45\u001b[0m in \u001b[0;36m<cell line: 1>\u001b[1;34m()\u001b[0m\n\u001b[1;32m----> <a href='vscode-notebook-cell:/c%3A/Users/lenovo/Documents/python/types_of_func.ipynb#X54sZmlsZQ%3D%3D?line=0'>1</a>\u001b[0m si()\n",
      "\u001b[1;32mc:\\Users\\lenovo\\Documents\\python\\types_of_func.ipynb Cell 45\u001b[0m in \u001b[0;36msi\u001b[1;34m()\u001b[0m\n\u001b[0;32m      <a href='vscode-notebook-cell:/c%3A/Users/lenovo/Documents/python/types_of_func.ipynb#X54sZmlsZQ%3D%3D?line=0'>1</a>\u001b[0m \u001b[39mdef\u001b[39;00m \u001b[39msi\u001b[39m():\n\u001b[1;32m----> <a href='vscode-notebook-cell:/c%3A/Users/lenovo/Documents/python/types_of_func.ipynb#X54sZmlsZQ%3D%3D?line=1'>2</a>\u001b[0m     p\u001b[39m=\u001b[39m \u001b[39mint\u001b[39;49m(\u001b[39minput\u001b[39;49m(\u001b[39m'\u001b[39;49m\u001b[39mpricipal:\u001b[39;49m\u001b[39m'\u001b[39;49m))\n\u001b[0;32m      <a href='vscode-notebook-cell:/c%3A/Users/lenovo/Documents/python/types_of_func.ipynb#X54sZmlsZQ%3D%3D?line=2'>3</a>\u001b[0m     r\u001b[39m=\u001b[39m \u001b[39mfloat\u001b[39m(\u001b[39minput\u001b[39m(\u001b[39m'\u001b[39m\u001b[39mRate:\u001b[39m\u001b[39m'\u001b[39m))\n\u001b[0;32m      <a href='vscode-notebook-cell:/c%3A/Users/lenovo/Documents/python/types_of_func.ipynb#X54sZmlsZQ%3D%3D?line=3'>4</a>\u001b[0m     t\u001b[39m=\u001b[39m \u001b[39mint\u001b[39m(\u001b[39minput\u001b[39m(\u001b[39m'\u001b[39m\u001b[39mtime\u001b[39m\u001b[39m'\u001b[39m))\n",
      "\u001b[1;31mValueError\u001b[0m: invalid literal for int() with base 10: ''"
     ]
    }
   ],
   "source": [
    "si():\n",
    "p=(34)\n",
    "r=(5)\n",
    "t=(14)\n",
    "print (si)\n"
   ]
  },
  {
   "cell_type": "code",
   "execution_count": null,
   "metadata": {},
   "outputs": [],
   "source": [
    "print (si)\n"
   ]
  },
  {
   "cell_type": "code",
   "execution_count": null,
   "metadata": {},
   "outputs": [],
   "source": [
    "num = int(input ('enter a number:'))\n",
    "if num > 1:\n",
    "    for i in range(2,num):\n",
    "        print(f'{num} % {i} == {num% i}')\n"
   ]
  },
  {
   "cell_type": "code",
   "execution_count": null,
   "metadata": {},
   "outputs": [],
   "source": [
    "import pgzrun\n",
    "HEIGHT: =300\n",
    "WIdTH: = 800\n",
    "p= Actor('ironman',(100,100))\n",
    "c= Actor('cookie')\n",
    "def draw():\n",
    "    screen.clear()\n",
    "    p.draw()\n",
    "    c.draw()\n",
    "q2\n",
    "pgrun.go\n"
   ]
  },
  {
   "cell_type": "code",
   "execution_count": null,
   "metadata": {},
   "outputs": [],
   "source": []
  }
 ],
 "metadata": {
  "kernelspec": {
   "display_name": "Python 3.9.12 ('base')",
   "language": "python",
   "name": "python3"
  },
  "language_info": {
   "codemirror_mode": {
    "name": "ipython",
    "version": 3
   },
   "file_extension": ".py",
   "mimetype": "text/x-python",
   "name": "python",
   "nbconvert_exporter": "python",
   "pygments_lexer": "ipython3",
   "version": "3.9.13"
  },
  "orig_nbformat": 4,
  "vscode": {
   "interpreter": {
    "hash": "95d50a5c078e45808b0310509146bdfa25d1e01a1940ba5c1a212b3c73de28e0"
   }
  }
 },
 "nbformat": 4,
 "nbformat_minor": 2
}
